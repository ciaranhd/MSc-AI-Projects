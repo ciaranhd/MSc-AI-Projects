{
 "cells": [
  {
   "cell_type": "markdown",
   "metadata": {},
   "source": [
    "# Setup (Part One)"
   ]
  },
  {
   "cell_type": "code",
   "execution_count": 1,
   "metadata": {
    "pycharm": {
     "name": "#%%\n"
    }
   },
   "outputs": [],
   "source": [
    "from datetime import datetime\n",
    "import numpy as np\n",
    "import pandas as pd\n",
    "import matplotlib.pyplot as plt\n",
    "import seaborn as sns\n",
    "import re\n",
    "from IPython.core.display import display\n",
    "%matplotlib inline\n",
    "\n",
    "# There Is A Deprecation Warning Flowing From Seaborn Graph Creation.\n",
    "import warnings\n",
    "warnings.filterwarnings(\"ignore\")"
   ]
  },
  {
   "cell_type": "markdown",
   "metadata": {
    "pycharm": {
     "name": "#%% md\n"
    }
   },
   "source": [
    "\n"
   ]
  },
  {
   "cell_type": "markdown",
   "metadata": {},
   "source": [
    "# Quotation Search (Function)\n",
    "\n",
    "A major stumbling block for parsing CSV files, is when a Comma is embedded within a set of quotation marks. \n",
    "\n",
    "Ordinarily, the Comma would act as a delimiter, however when embedded within a set of quotation marks we should simply ignore it.\n",
    "\n",
    "Example: \"I Think, Therefore I am\"\n",
    "\n",
    "Using a simplistic approach of splitting by Comma alone, we would get: [\" I think \"][\" Therefore I am \"]\n",
    "\n",
    "The Quotation_Search Function recognises a quotation mark. We can query if a quotation is open using \"is_quotation_engaged\", returning a Boolean True or False. The Boolean Values oscillate between True and False each time a quotation mark is encountered. \n",
    "\n",
    "When the Boolean is True, any Commas encountered will NOT split the text.\n",
    "\n",
    "This also accounts for quotes embedded within quotes. It is customary for these embedded quotations to be double quoted. \n",
    "\n",
    "For Example: \"I \"\"Think, \"\" Therefore I am\" will spoduce: [\"I \"\"Think, \"\" Therefore I am\", .., ]"
   ]
  },
  {
   "cell_type": "code",
   "execution_count": 2,
   "metadata": {
    "pycharm": {
     "name": "#%%\n"
    }
   },
   "outputs": [],
   "source": [
    "class quotation_search:\n",
    "    def __init__(self):\n",
    "        self.state = False\n",
    "    def quotation_encountered(self):\n",
    "        if self.state == False:\n",
    "            self.state = True\n",
    "        else:\n",
    "            self.state = False\n",
    "    def is_quotation_engaged(self):\n",
    "        return self.state\n",
    "    "
   ]
  },
  {
   "cell_type": "markdown",
   "metadata": {},
   "source": [
    "# Split (Function)\n",
    "\n",
    "The Split Function takes an entire row from the CSV file, and returns a list,  splitting the data by\n",
    "the delimiter of choice.\n",
    "\n",
    "Notice that it also takes an input variable split_location. In the main code, we use the Quotation Search Function\n",
    "to identify the location of the Delimiters (Comma’s) in a row of text, which we can use to split it with.\n",
    "\n",
    "For example using the string: \"I Think Therefore, I Am\", \"CSV Parsing Is A Pain\"\n",
    "\n",
    "Split Location Should Return [25], which is the comma after Am\". Notice that we have ignored the comma after Therefore.\n",
    "\n"
   ]
  },
  {
   "cell_type": "code",
   "execution_count": 3,
   "metadata": {},
   "outputs": [],
   "source": [
    "def split(line, split_location):\n",
    "    split_list = []\n",
    "    starting_index = 0\n",
    "    line.rstrip()\n",
    "    for location in split_location:\n",
    "        split_data = line[starting_index: location]\n",
    "        split_list.append(split_data)\n",
    "        starting_index = location + 1\n",
    "    split_data = line[starting_index:]\n",
    "    split_list.append(split_data)\n",
    "    return split_list"
   ]
  },
  {
   "cell_type": "markdown",
   "metadata": {},
   "source": [
    "# Delimiter Check (Function)\n",
    "\n",
    "I have increased functionality by checking the first row of the CSV (Headers), and looking for the existence of \"|\". The character appears so infrequently in natural language that I will assume it to form the delimiter of choice in place of comma, should it appear."
   ]
  },
  {
   "cell_type": "code",
   "execution_count": 4,
   "metadata": {
    "pycharm": {
     "is_executing": true
    }
   },
   "outputs": [],
   "source": [
    "def delimiter_check(first_sentence):\n",
    "    if \"|\" in first_sentence:\n",
    "        return \"|\"\n",
    "    else:\n",
    "        return \",\""
   ]
  },
  {
   "cell_type": "markdown",
   "metadata": {},
   "source": [
    "# Stray End Comma Adjustment (Function)\n",
    "\n",
    "This cleans up any stray commas at the end of each row of text in the CSV document. This recognises the fact that row endings should not be marked by a delimiter. "
   ]
  },
  {
   "cell_type": "code",
   "execution_count": 5,
   "metadata": {
    "pycharm": {
     "is_executing": true
    }
   },
   "outputs": [],
   "source": [
    "def stray_end_comma_adjustment(final_char_position, split_location_array, number_of_columns):\n",
    "    \"\"\" A Line Which Contains A Trailing Comma (\"DateTime,\"mm\",)\n",
    "        Will Over State The Number of Columns.\n",
    "        Action: Reduce The Column Count By One\"\"\"\n",
    "    if (final_char_position - 1) == split_location_array[-1]:\n",
    "         number_of_columns -= 1\n",
    "    return number_of_columns"
   ]
  },
  {
   "cell_type": "markdown",
   "metadata": {},
   "source": [
    "# Cleanse Split Heading Data (Function)\n",
    "\n",
    "The Function takes a list of already split data, and \"cleanses\" it.\n",
    "\n",
    "This involves removing quotation marks using regular expressions, and also removing white space using the  .strip() function.\n",
    "\n",
    "When the data is clean and in a useable format, it will be exported to a Python Dictionary, where the Headings\n",
    "will act as Keys, and the Dictionary Values initialised as an empty list (we will add the data afterwards)\n",
    "\n",
    "For Example: data_frame_dictionary = {\n",
    "                                        DateTime: [],\n",
    "                                        mm: [], ...,\n",
    "                                        }\n"
   ]
  },
  {
   "cell_type": "code",
   "execution_count": 6,
   "metadata": {
    "pycharm": {
     "is_executing": true
    }
   },
   "outputs": [],
   "source": [
    "def cleanse_split_heading_data(split_columns):\n",
    "    column_headings = []\n",
    "    data_frame_dictionary = {}\n",
    "    for column in split_columns:\n",
    "        # Remove White Space\n",
    "        column = column.strip()\n",
    "        \n",
    "        # Regular Expressions To Format The Data Nicely\n",
    "        column = re.sub(r'^\"|\"$', '', column)\n",
    "        column_headings.append(column)\n",
    "        \n",
    "        # Add The Column Headings To Data_Frame_Dictionary As Keys\n",
    "        data_frame_dictionary[column] = []\n",
    "    if column_headings[-1] == \"\":\n",
    "        column_headings = column_headings[:-1]\n",
    "    \n",
    "    return column_headings, data_frame_dictionary"
   ]
  },
  {
   "cell_type": "markdown",
   "metadata": {},
   "source": [
    "# Format Date (Function)\n",
    "\n",
    "Dates can be written in many different ways, and as such the code should not implode when it encounters variation.\n",
    "I have used the datetime module to account for variation.\n",
    "\n",
    "The code should be able to deal with:\n",
    "    \n",
    "    i)   The American/British variation\n",
    "    ii)  Long form: 12th September 2020, September 12th 2020\n",
    "    iii) Different modes of separating dates, commas, hyphens, forward slashes etc\n",
    "    \n",
    "If the date is still invalid, then I will return NaN. Later in the code, rows which exhibit NaN will be dropped from the DataFrame table."
   ]
  },
  {
   "cell_type": "code",
   "execution_count": 7,
   "metadata": {
    "pycharm": {
     "is_executing": true
    }
   },
   "outputs": [],
   "source": [
    "def format_date(date):\n",
    "    try:\n",
    "        formated_date = pd.to_datetime(date)\n",
    "        return formated_date\n",
    "    except:\n",
    "        try:\n",
    "            date_object = datetime.strptime(date, \"%Y %d %m\")\n",
    "            formated_date = pd.to_datetime(date_object)\n",
    "            return formated_date\n",
    "        except:\n",
    "            try:\n",
    "                date_object = datetime.strptime(date, \"%Y, %m %d\")\n",
    "                formated_date = pd.to_datetime(date_object)\n",
    "                return formated_date\n",
    "            except:\n",
    "                try:\n",
    "                    date_object = datetime.strptime(date, \"%Y, %d, %m\")\n",
    "                    formated_date = pd.to_datetime(date_object)\n",
    "                    return formated_date\n",
    "                except:\n",
    "                    try:\n",
    "                        date_object = datetime.strptime(date, \"%Y-%d-%m %H:%M:%S\")\n",
    "                        formated_date = pd.to_datetime(date_object)\n",
    "                        return formated_date\n",
    "                    except:\n",
    "                        try:\n",
    "                            date_object = datetime.strptime(date, \"%m-%d-%Y %H:%M:%S\")\n",
    "                            formated_date = pd.to_datetime(date_object)\n",
    "                            return formated_date\n",
    "                        except:\n",
    "                            try:\n",
    "                                date_object = datetime.strptime(date, \"%d-%m-%Y %H:%M:%S\")\n",
    "                                formated_date = pd.to_datetime(date_object)\n",
    "                                return formated_date\n",
    "                            except:\n",
    "                                try:\n",
    "                                    date_object = datetime.strptime(date, \"%Y-%d-%m\")\n",
    "                                    formated_date = pd.to_datetime(date_object)\n",
    "                                    return formated_date\n",
    "                                except:\n",
    "                                    try:\n",
    "                                        date_object = datetime.strptime(date, \"%m-%d-%Y\")\n",
    "                                        formated_date = pd.to_datetime(date_object)\n",
    "                                        return formated_date\n",
    "                                    except:\n",
    "                                        try:\n",
    "                                            date_object = datetime.strptime(date,\"%d-%m-%Y\")\n",
    "                                            formated_date = pd.to_datetime(date_object)\n",
    "                                            return formated_date\n",
    "                                        except:\n",
    "                                            try:\n",
    "                                                date_object = datetime.strptime(date,\"%Y/%d/%m %H:%M:%S\")\n",
    "                                                formated_date = pd.to_datetime(date_object)\n",
    "                                                return formated_date\n",
    "                                            except:\n",
    "                                                try:\n",
    "                                                    date_object = datetime.strptime(date,\"%m/%d/%Y %H:%M:%S\")\n",
    "                                                    formated_date = pd.to_datetime(date_object)\n",
    "                                                    return formated_date\n",
    "                                                except:\n",
    "                                                    try:\n",
    "                                                        date_object = datetime.strptime(date, \"%d/%m/%Y %H:%M:%S\")\n",
    "                                                        formated_date = pd.to_datetime(date_object)\n",
    "                                                        return formated_date\n",
    "                                                    except:\n",
    "                                                        try:\n",
    "                                                            date_object = datetime.strptime(date, \"%Y/%d/%m\")\n",
    "                                                            formated_date = pd.to_datetime(date_object)\n",
    "                                                            return formated_date\n",
    "                                                        except:\n",
    "                                                            return np.nan"
   ]
  },
  {
   "cell_type": "markdown",
   "metadata": {},
   "source": [
    "# Create Data Frame (Function)\n",
    "\n",
    "We wish to take a File as input, and use the Python IO Functions to ingest it, and then we will use the Functions above to parse it into a Python Dictionary.\n",
    "\n",
    "FInally we convert the Python Dictionary into a Pandas DataFrame.\n",
    "\n",
    "The Function also accounts for:\n",
    "\n",
    "    i)   When a row has more values in it than Headers (simply ignore the values)\n",
    "    ii)  When a row has less values in it than Headers (assign a value of NaN to the missing value)\n",
    "    iii) If the CSV has a blank line we simply ignore it\n"
   ]
  },
  {
   "cell_type": "code",
   "execution_count": 8,
   "metadata": {
    "pycharm": {
     "is_executing": true
    }
   },
   "outputs": [],
   "source": [
    "    \n",
    "# encoding='utf-8-sig'\n",
    "def create_data_frame(file_name):\n",
    "    with open(file_name, \"r\", encoding='utf-8-sig') as f_handle:\n",
    "\n",
    "        # The Data Frame Dictionary Will Be Used To Create A Pandas DataFrame\n",
    "        data_frame_dictionary = {}\n",
    "\n",
    "        # List Of Column Headings Allows Us To Reference The Array As We Store Data Into The Correct Column\n",
    "        column_headings = []\n",
    "\n",
    "        # Create The Lines Object (The Entire Data Split Into Sentences)\n",
    "        sentences = f_handle.readlines()\n",
    "\n",
    "        # We Need To Keep Track Of Quotation Marks, As Delimiters Symbols Which Are Surrounded By Quotation\n",
    "        # Marks Must Be Ignored.\n",
    "        quotation_obj = quotation_search()\n",
    "\n",
    "        # Counter == 0 Allows Us Check The First Row, Which Is Needed For Headers\n",
    "        counter = 0\n",
    "        number_of_columns = 1\n",
    "        for line in sentences:\n",
    "            # Ignore Blank Lines\n",
    "            if line == \"\\n\":\n",
    "                continue\n",
    "            delimiter_count = 0\n",
    "            # The First Row Is The Headers\n",
    "            split_location = []\n",
    "            if counter == 0:\n",
    "                # Establish What The Delimiter Is\n",
    "                delimiter = delimiter_check(line)\n",
    "                for char_position, char in enumerate(line):\n",
    "                    if char == \"\\\"\":\n",
    "                        quotation_obj.quotation_encountered()\n",
    "                    if char == delimiter and quotation_obj.is_quotation_engaged() == False:\n",
    "                        split_location.append(char_position)\n",
    "                        number_of_columns += 1\n",
    "                # Stray End Comma Adjustment\n",
    "                number_of_columns = stray_end_comma_adjustment(char_position,split_location,number_of_columns)\n",
    "                split_columns = split(line.rstrip(), split_location)\n",
    "\n",
    "\n",
    "                # Cleanse The Split Headers Data\n",
    "                column_headings, data_frame_dictionary = cleanse_split_heading_data(split_columns)\n",
    "                counter = counter + 1\n",
    "            \n",
    "           \n",
    "        # Dealing With The MAIN DATA (Row 1 +) - (Not Headers)\n",
    "            else:\n",
    "                for char_position, char in enumerate(line):\n",
    "                    if char == \"\\\"\":\n",
    "                        quotation_obj.quotation_encountered()\n",
    "                    \n",
    "                    # A Comma Engaged Unbounded By Quotation Marks Is A Split Point\n",
    "                    # Record The Location In The Line So We Can Split It\n",
    "                    if char == delimiter and quotation_obj.is_quotation_engaged() == False:\n",
    "                        delimiter_count = delimiter_count + 1\n",
    "                        \n",
    "                        # Ignore Columns With No Header\n",
    "                        if delimiter_count == number_of_columns:\n",
    "                            break\n",
    "                        else:\n",
    "                            split_location.append(char_position)\n",
    "                split_data = split(line[:char_position].rstrip(), split_location)\n",
    "                \n",
    "                for i in range(len(split_data)):\n",
    "                    if split_data[i] == \"\":\n",
    "                        data_frame_dictionary[column_headings[i]].append(np.nan)\n",
    "                    else:\n",
    "                        \n",
    "                        # Cleanse Data\n",
    "                        if column_headings[i] == \"DateTime\":\n",
    "                            split_data[i] = re.sub(r'^\"|\"$', '', split_data[i])\n",
    "                            formated_date = format_date(split_data[i])\n",
    "                            data_frame_dictionary[column_headings[i]].append(formated_date)\n",
    "                        else:\n",
    "                            split_data[i] = re.sub(r'^\"|\"$', '', split_data[i])\n",
    "                            \n",
    "                            # Ensure Values Are Float DataTypes\n",
    "                            split_data[i] = split_data[i].strip()\n",
    "                            try:\n",
    "                                split_data[i] = float(split_data[i])\n",
    "                            except:\n",
    "                                split_data[i] = re.sub(r'^\"|\"$', '', split_data[i])\n",
    "                            data_frame_dictionary[column_headings[i]].append(split_data[i])\n",
    "\n",
    "                row_number_of_columns = len(split_data)\n",
    "                \n",
    "                # Account For Rows Which Are Missing Values, i.e. They Have Fewer Values Than The Number of Headers\n",
    "                # In The Data. We Will Assume That The Value Is NaN.\n",
    "                if row_number_of_columns < number_of_columns:\n",
    "                    for i in range(row_number_of_columns,number_of_columns):\n",
    "                        data_frame_dictionary[column_headings[i]].append(np.nan)\n",
    "    \n",
    "    return data_frame_dictionary"
   ]
  },
  {
   "cell_type": "markdown",
   "metadata": {},
   "source": [
    "# Main Driver Code\n",
    "\n",
    "We iterate through each file, and convert the data into a Python Dictionary. The Python Dictionary is then converted into a DataFrame. \n",
    "\n",
    "If multiple files are given, the program will combine the DataFrames using the Merge Function within the Pandas Library. \n",
    "\n",
    "Pandas DataFrames With Non Unique Columns: To account for this, each heading is saved with a portion of the file name as a marker using the suffixes parameter in the Merge Function. This will ensure that it is identifiable in the final merged DataFrame. For example \"temperature_indoor\".\n",
    "\n",
    "If two Data Frames have a row which is not common to both, instead of deleting it when merging, it is included at the end (how=\"outer\")\n",
    "\n",
    "Finally, NaN DateTImes are dropped from the final DataFrame using the dropna() function. A data point which we cannot assign to a date is not useful, and thereby safer to discard.\n",
    "\n",
    "\n"
   ]
  },
  {
   "cell_type": "markdown",
   "metadata": {},
   "source": [
    "# IMPORTANT: \n",
    "Filenames to be imported. MANUALLY UPDATE THE CODE BELOW with the filenames you wish to import.\n",
    "If more than one filename is given, the program will merge the two DataFrames automatically."
   ]
  },
  {
   "cell_type": "code",
   "execution_count": 9,
   "metadata": {
    "pycharm": {
     "is_executing": true
    }
   },
   "outputs": [],
   "source": [
    "file_name = [\"barometer-1617.csv\", \"indoor-temperature-1617.csv\", \"outside-temperature-1617.csv\",\"rainfall-1617.csv\"]"
   ]
  },
  {
   "cell_type": "markdown",
   "metadata": {},
   "source": [
    "Run Code Below"
   ]
  },
  {
   "cell_type": "code",
   "execution_count": 10,
   "metadata": {
    "pycharm": {
     "is_executing": true
    }
   },
   "outputs": [],
   "source": [
    "i = 0\n",
    "data_frame = None\n",
    "previous_file = None\n",
    "for file_csv in file_name:\n",
    "    data_frame_dictionary = create_data_frame(file_csv)\n",
    "    data_frame_dictionary = pd.DataFrame.from_dict(data_frame_dictionary, orient='index').transpose()\n",
    "    frame = pd.DataFrame(data_frame_dictionary)\n",
    "    split_file_name = re.findall(r\"[\\w']+\", file_csv)\n",
    "    if i == 0:\n",
    "        data_frame = frame\n",
    "        i = i + 1\n",
    "        previous_file = split_file_name[0]\n",
    "    else:\n",
    "        # Not All Of The Data Frames Have The Same Number Of Rows. The Default Position\n",
    "        # For Merge Is To Delete Rows Which Are Uncommon To The Data Frames Being Merged\n",
    "        # how=\"outer\" ensures that unique rows are not deleted when merged\n",
    "        data_frame = pd.DataFrame.merge(frame, data_frame, on=\"DateTime\",how='outer', suffixes=(f\"_{split_file_name[0]}\",f\"_{previous_file}\")).fillna(np.nan)\n",
    "        previous_file = split_file_name[0]\n",
    "        \n",
    "# Drop Dates Which Are Not Are NaN - (If We Can't Categorise It By Date, Then It Is Useless)\n",
    "data_frame = data_frame.dropna(subset = ['DateTime'])"
   ]
  },
  {
   "cell_type": "markdown",
   "metadata": {},
   "source": [
    "# Produce Final DataFrame\n",
    "\n",
    "This will produce the final data as requested by the assignment instructions. It will diplay the first 10 rows, however, please feel to adjust this."
   ]
  },
  {
   "cell_type": "code",
   "execution_count": 11,
   "metadata": {
    "pycharm": {
     "is_executing": true
    }
   },
   "outputs": [
    {
     "data": {
      "text/html": [
       "<style  type=\"text/css\" >\n",
       "</style><table id=\"T_3ee0c_\" ><thead>    <tr>        <th class=\"blank level0\" ></th>        <th class=\"col_heading level0 col0\" >DateTime</th>        <th class=\"col_heading level0 col1\" >mm</th>        <th class=\"col_heading level0 col2\" >Temperature_outside</th>        <th class=\"col_heading level0 col3\" >Temperature_range (low)_outside</th>        <th class=\"col_heading level0 col4\" >Temperature_range (high)_outside</th>        <th class=\"col_heading level0 col5\" >Humidity</th>        <th class=\"col_heading level0 col6\" >Temperature_indoor</th>        <th class=\"col_heading level0 col7\" >Temperature_range (low)_indoor</th>        <th class=\"col_heading level0 col8\" >Temperature_range (high)_indoor</th>        <th class=\"col_heading level0 col9\" >Baro</th>    </tr></thead><tbody>\n",
       "                <tr>\n",
       "                        <th id=\"T_3ee0c_level0_row0\" class=\"row_heading level0 row0\" >0</th>\n",
       "                        <td id=\"T_3ee0c_row0_col0\" class=\"data row0 col0\" >2016-10-09 00:00:00</td>\n",
       "                        <td id=\"T_3ee0c_row0_col1\" class=\"data row0 col1\" >0.000000</td>\n",
       "                        <td id=\"T_3ee0c_row0_col2\" class=\"data row0 col2\" >10.660000</td>\n",
       "                        <td id=\"T_3ee0c_row0_col3\" class=\"data row0 col3\" >7.200000</td>\n",
       "                        <td id=\"T_3ee0c_row0_col4\" class=\"data row0 col4\" >13.800000</td>\n",
       "                        <td id=\"T_3ee0c_row0_col5\" class=\"data row0 col5\" >54.000000</td>\n",
       "                        <td id=\"T_3ee0c_row0_col6\" class=\"data row0 col6\" >21.930000</td>\n",
       "                        <td id=\"T_3ee0c_row0_col7\" class=\"data row0 col7\" >21.000000</td>\n",
       "                        <td id=\"T_3ee0c_row0_col8\" class=\"data row0 col8\" >22.800000</td>\n",
       "                        <td id=\"T_3ee0c_row0_col9\" class=\"data row0 col9\" >1021.900000</td>\n",
       "            </tr>\n",
       "            <tr>\n",
       "                        <th id=\"T_3ee0c_level0_row1\" class=\"row_heading level0 row1\" >1</th>\n",
       "                        <td id=\"T_3ee0c_row1_col0\" class=\"data row1 col0\" >2016-10-10 00:00:00</td>\n",
       "                        <td id=\"T_3ee0c_row1_col1\" class=\"data row1 col1\" >0.000000</td>\n",
       "                        <td id=\"T_3ee0c_row1_col2\" class=\"data row1 col2\" >8.940000</td>\n",
       "                        <td id=\"T_3ee0c_row1_col3\" class=\"data row1 col3\" >5.600000</td>\n",
       "                        <td id=\"T_3ee0c_row1_col4\" class=\"data row1 col4\" >12.800000</td>\n",
       "                        <td id=\"T_3ee0c_row1_col5\" class=\"data row1 col5\" >52.000000</td>\n",
       "                        <td id=\"T_3ee0c_row1_col6\" class=\"data row1 col6\" >21.770000</td>\n",
       "                        <td id=\"T_3ee0c_row1_col7\" class=\"data row1 col7\" >20.400000</td>\n",
       "                        <td id=\"T_3ee0c_row1_col8\" class=\"data row1 col8\" >23.600000</td>\n",
       "                        <td id=\"T_3ee0c_row1_col9\" class=\"data row1 col9\" >1019.900000</td>\n",
       "            </tr>\n",
       "            <tr>\n",
       "                        <th id=\"T_3ee0c_level0_row2\" class=\"row_heading level0 row2\" >2</th>\n",
       "                        <td id=\"T_3ee0c_row2_col0\" class=\"data row2 col0\" >2016-10-11 00:00:00</td>\n",
       "                        <td id=\"T_3ee0c_row2_col1\" class=\"data row2 col1\" >0.000000</td>\n",
       "                        <td id=\"T_3ee0c_row2_col2\" class=\"data row2 col2\" >8.690000</td>\n",
       "                        <td id=\"T_3ee0c_row2_col3\" class=\"data row2 col3\" >5.300000</td>\n",
       "                        <td id=\"T_3ee0c_row2_col4\" class=\"data row2 col4\" >14.300000</td>\n",
       "                        <td id=\"T_3ee0c_row2_col5\" class=\"data row2 col5\" >51.000000</td>\n",
       "                        <td id=\"T_3ee0c_row2_col6\" class=\"data row2 col6\" >21.360000</td>\n",
       "                        <td id=\"T_3ee0c_row2_col7\" class=\"data row2 col7\" >19.900000</td>\n",
       "                        <td id=\"T_3ee0c_row2_col8\" class=\"data row2 col8\" >23.000000</td>\n",
       "                        <td id=\"T_3ee0c_row2_col9\" class=\"data row2 col9\" >1015.800000</td>\n",
       "            </tr>\n",
       "            <tr>\n",
       "                        <th id=\"T_3ee0c_level0_row3\" class=\"row_heading level0 row3\" >3</th>\n",
       "                        <td id=\"T_3ee0c_row3_col0\" class=\"data row3 col0\" >2016-10-12 00:00:00</td>\n",
       "                        <td id=\"T_3ee0c_row3_col1\" class=\"data row3 col1\" >0.000000</td>\n",
       "                        <td id=\"T_3ee0c_row3_col2\" class=\"data row3 col2\" >11.550000</td>\n",
       "                        <td id=\"T_3ee0c_row3_col3\" class=\"data row3 col3\" >9.000000</td>\n",
       "                        <td id=\"T_3ee0c_row3_col4\" class=\"data row3 col4\" >14.900000</td>\n",
       "                        <td id=\"T_3ee0c_row3_col5\" class=\"data row3 col5\" >51.000000</td>\n",
       "                        <td id=\"T_3ee0c_row3_col6\" class=\"data row3 col6\" >21.440000</td>\n",
       "                        <td id=\"T_3ee0c_row3_col7\" class=\"data row3 col7\" >20.000000</td>\n",
       "                        <td id=\"T_3ee0c_row3_col8\" class=\"data row3 col8\" >23.600000</td>\n",
       "                        <td id=\"T_3ee0c_row3_col9\" class=\"data row3 col9\" >1013.200000</td>\n",
       "            </tr>\n",
       "            <tr>\n",
       "                        <th id=\"T_3ee0c_level0_row4\" class=\"row_heading level0 row4\" >4</th>\n",
       "                        <td id=\"T_3ee0c_row4_col0\" class=\"data row4 col0\" >2016-10-13 00:00:00</td>\n",
       "                        <td id=\"T_3ee0c_row4_col1\" class=\"data row4 col1\" >0.000000</td>\n",
       "                        <td id=\"T_3ee0c_row4_col2\" class=\"data row4 col2\" >9.400000</td>\n",
       "                        <td id=\"T_3ee0c_row4_col3\" class=\"data row4 col3\" >6.000000</td>\n",
       "                        <td id=\"T_3ee0c_row4_col4\" class=\"data row4 col4\" >13.300000</td>\n",
       "                        <td id=\"T_3ee0c_row4_col5\" class=\"data row4 col5\" >52.000000</td>\n",
       "                        <td id=\"T_3ee0c_row4_col6\" class=\"data row4 col6\" >21.220000</td>\n",
       "                        <td id=\"T_3ee0c_row4_col7\" class=\"data row4 col7\" >20.100000</td>\n",
       "                        <td id=\"T_3ee0c_row4_col8\" class=\"data row4 col8\" >22.300000</td>\n",
       "                        <td id=\"T_3ee0c_row4_col9\" class=\"data row4 col9\" >1005.900000</td>\n",
       "            </tr>\n",
       "            <tr>\n",
       "                        <th id=\"T_3ee0c_level0_row5\" class=\"row_heading level0 row5\" >5</th>\n",
       "                        <td id=\"T_3ee0c_row5_col0\" class=\"data row5 col0\" >2016-10-14 00:00:00</td>\n",
       "                        <td id=\"T_3ee0c_row5_col1\" class=\"data row5 col1\" >1.100000</td>\n",
       "                        <td id=\"T_3ee0c_row5_col2\" class=\"data row5 col2\" >9.850000</td>\n",
       "                        <td id=\"T_3ee0c_row5_col3\" class=\"data row5 col3\" >6.800000</td>\n",
       "                        <td id=\"T_3ee0c_row5_col4\" class=\"data row5 col4\" >13.300000</td>\n",
       "                        <td id=\"T_3ee0c_row5_col5\" class=\"data row5 col5\" >52.000000</td>\n",
       "                        <td id=\"T_3ee0c_row5_col6\" class=\"data row5 col6\" >21.020000</td>\n",
       "                        <td id=\"T_3ee0c_row5_col7\" class=\"data row5 col7\" >19.600000</td>\n",
       "                        <td id=\"T_3ee0c_row5_col8\" class=\"data row5 col8\" >22.600000</td>\n",
       "                        <td id=\"T_3ee0c_row5_col9\" class=\"data row5 col9\" >998.600000</td>\n",
       "            </tr>\n",
       "            <tr>\n",
       "                        <th id=\"T_3ee0c_level0_row6\" class=\"row_heading level0 row6\" >6</th>\n",
       "                        <td id=\"T_3ee0c_row6_col0\" class=\"data row6 col0\" >2016-10-15 00:00:00</td>\n",
       "                        <td id=\"T_3ee0c_row6_col1\" class=\"data row6 col1\" >2.100000</td>\n",
       "                        <td id=\"T_3ee0c_row6_col2\" class=\"data row6 col2\" >10.720000</td>\n",
       "                        <td id=\"T_3ee0c_row6_col3\" class=\"data row6 col3\" >8.200000</td>\n",
       "                        <td id=\"T_3ee0c_row6_col4\" class=\"data row6 col4\" >14.700000</td>\n",
       "                        <td id=\"T_3ee0c_row6_col5\" class=\"data row6 col5\" >53.000000</td>\n",
       "                        <td id=\"T_3ee0c_row6_col6\" class=\"data row6 col6\" >21.400000</td>\n",
       "                        <td id=\"T_3ee0c_row6_col7\" class=\"data row6 col7\" >20.300000</td>\n",
       "                        <td id=\"T_3ee0c_row6_col8\" class=\"data row6 col8\" >22.500000</td>\n",
       "                        <td id=\"T_3ee0c_row6_col9\" class=\"data row6 col9\" >998.000000</td>\n",
       "            </tr>\n",
       "            <tr>\n",
       "                        <th id=\"T_3ee0c_level0_row7\" class=\"row_heading level0 row7\" >7</th>\n",
       "                        <td id=\"T_3ee0c_row7_col0\" class=\"data row7 col0\" >2016-10-16 00:00:00</td>\n",
       "                        <td id=\"T_3ee0c_row7_col1\" class=\"data row7 col1\" >8.400000</td>\n",
       "                        <td id=\"T_3ee0c_row7_col2\" class=\"data row7 col2\" >11.280000</td>\n",
       "                        <td id=\"T_3ee0c_row7_col3\" class=\"data row7 col3\" >7.800000</td>\n",
       "                        <td id=\"T_3ee0c_row7_col4\" class=\"data row7 col4\" >14.500000</td>\n",
       "                        <td id=\"T_3ee0c_row7_col5\" class=\"data row7 col5\" >53.000000</td>\n",
       "                        <td id=\"T_3ee0c_row7_col6\" class=\"data row7 col6\" >21.430000</td>\n",
       "                        <td id=\"T_3ee0c_row7_col7\" class=\"data row7 col7\" >20.000000</td>\n",
       "                        <td id=\"T_3ee0c_row7_col8\" class=\"data row7 col8\" >23.000000</td>\n",
       "                        <td id=\"T_3ee0c_row7_col9\" class=\"data row7 col9\" >1002.200000</td>\n",
       "            </tr>\n",
       "            <tr>\n",
       "                        <th id=\"T_3ee0c_level0_row8\" class=\"row_heading level0 row8\" >8</th>\n",
       "                        <td id=\"T_3ee0c_row8_col0\" class=\"data row8 col0\" >2016-10-17 00:00:00</td>\n",
       "                        <td id=\"T_3ee0c_row8_col1\" class=\"data row8 col1\" >1.100000</td>\n",
       "                        <td id=\"T_3ee0c_row8_col2\" class=\"data row8 col2\" >11.840000</td>\n",
       "                        <td id=\"T_3ee0c_row8_col3\" class=\"data row8 col3\" >10.000000</td>\n",
       "                        <td id=\"T_3ee0c_row8_col4\" class=\"data row8 col4\" >15.000000</td>\n",
       "                        <td id=\"T_3ee0c_row8_col5\" class=\"data row8 col5\" >53.000000</td>\n",
       "                        <td id=\"T_3ee0c_row8_col6\" class=\"data row8 col6\" >21.670000</td>\n",
       "                        <td id=\"T_3ee0c_row8_col7\" class=\"data row8 col7\" >20.500000</td>\n",
       "                        <td id=\"T_3ee0c_row8_col8\" class=\"data row8 col8\" >22.700000</td>\n",
       "                        <td id=\"T_3ee0c_row8_col9\" class=\"data row8 col9\" >1009.800000</td>\n",
       "            </tr>\n",
       "            <tr>\n",
       "                        <th id=\"T_3ee0c_level0_row9\" class=\"row_heading level0 row9\" >9</th>\n",
       "                        <td id=\"T_3ee0c_row9_col0\" class=\"data row9 col0\" >2016-10-18 00:00:00</td>\n",
       "                        <td id=\"T_3ee0c_row9_col1\" class=\"data row9 col1\" >3.100000</td>\n",
       "                        <td id=\"T_3ee0c_row9_col2\" class=\"data row9 col2\" >10.240000</td>\n",
       "                        <td id=\"T_3ee0c_row9_col3\" class=\"data row9 col3\" >8.200000</td>\n",
       "                        <td id=\"T_3ee0c_row9_col4\" class=\"data row9 col4\" >12.700000</td>\n",
       "                        <td id=\"T_3ee0c_row9_col5\" class=\"data row9 col5\" >54.000000</td>\n",
       "                        <td id=\"T_3ee0c_row9_col6\" class=\"data row9 col6\" >21.750000</td>\n",
       "                        <td id=\"T_3ee0c_row9_col7\" class=\"data row9 col7\" >20.600000</td>\n",
       "                        <td id=\"T_3ee0c_row9_col8\" class=\"data row9 col8\" >23.100000</td>\n",
       "                        <td id=\"T_3ee0c_row9_col9\" class=\"data row9 col9\" >1013.400000</td>\n",
       "            </tr>\n",
       "    </tbody></table>"
      ],
      "text/plain": [
       "<pandas.io.formats.style.Styler at 0x7f371904f310>"
      ]
     },
     "metadata": {},
     "output_type": "display_data"
    }
   ],
   "source": [
    "number_of_rows = 10\n",
    "\n",
    "pd.set_option('max_colwidth', 10)\n",
    "display(data_frame.head(number_of_rows).style)"
   ]
  },
  {
   "cell_type": "markdown",
   "metadata": {},
   "source": [
    "# Statistics (Part Two)\n",
    "\n",
    "Produce The Values For:\n",
    "\n",
    "    i)   Averages\n",
    "    ii)  Standard Deviation\n",
    "    iii) Minimum Value\n",
    "    iv)  Maximum Value\n",
    "    \n",
    "# Important: \n",
    "\n",
    "I have excluded NaN. This is equivalent to setting those missing values to the average for it's respective column. Therefore the absence of missing values will not skew the final results.\n",
    "\n",
    "\n"
   ]
  },
  {
   "cell_type": "code",
   "execution_count": 12,
   "metadata": {
    "pycharm": {
     "is_executing": true,
     "name": "#%%\n"
    }
   },
   "outputs": [
    {
     "data": {
      "text/html": [
       "<style  type=\"text/css\" >\n",
       "</style><table id=\"T_5a2ca_\" ><thead>    <tr>        <th class=\"blank level0\" ></th>        <th class=\"col_heading level0 col0\" >DataType</th>        <th class=\"col_heading level0 col1\" >Averages</th>        <th class=\"col_heading level0 col2\" >Standard Deviation</th>        <th class=\"col_heading level0 col3\" >Minimum Value</th>        <th class=\"col_heading level0 col4\" >Maximum Value</th>    </tr></thead><tbody>\n",
       "                <tr>\n",
       "                        <th id=\"T_5a2ca_level0_row0\" class=\"row_heading level0 row0\" >0</th>\n",
       "                        <td id=\"T_5a2ca_row0_col0\" class=\"data row0 col0\" >mm</td>\n",
       "                        <td id=\"T_5a2ca_row0_col1\" class=\"data row0 col1\" >1.553125</td>\n",
       "                        <td id=\"T_5a2ca_row0_col2\" class=\"data row0 col2\" >3.328302</td>\n",
       "                        <td id=\"T_5a2ca_row0_col3\" class=\"data row0 col3\" >0.000000</td>\n",
       "                        <td id=\"T_5a2ca_row0_col4\" class=\"data row0 col4\" >23.200000</td>\n",
       "            </tr>\n",
       "            <tr>\n",
       "                        <th id=\"T_5a2ca_level0_row1\" class=\"row_heading level0 row1\" >1</th>\n",
       "                        <td id=\"T_5a2ca_row1_col0\" class=\"data row1 col0\" >Temperature_outside</td>\n",
       "                        <td id=\"T_5a2ca_row1_col1\" class=\"data row1 col1\" >11.138877</td>\n",
       "                        <td id=\"T_5a2ca_row1_col2\" class=\"data row1 col2\" >5.355042</td>\n",
       "                        <td id=\"T_5a2ca_row1_col3\" class=\"data row1 col3\" >-1.810000</td>\n",
       "                        <td id=\"T_5a2ca_row1_col4\" class=\"data row1 col4\" >26.380000</td>\n",
       "            </tr>\n",
       "            <tr>\n",
       "                        <th id=\"T_5a2ca_level0_row2\" class=\"row_heading level0 row2\" >2</th>\n",
       "                        <td id=\"T_5a2ca_row2_col0\" class=\"data row2 col0\" >Temperature_range (low)_outside</td>\n",
       "                        <td id=\"T_5a2ca_row2_col1\" class=\"data row2 col1\" >7.865634</td>\n",
       "                        <td id=\"T_5a2ca_row2_col2\" class=\"data row2 col2\" >4.878930</td>\n",
       "                        <td id=\"T_5a2ca_row2_col3\" class=\"data row2 col3\" >-4.100000</td>\n",
       "                        <td id=\"T_5a2ca_row2_col4\" class=\"data row2 col4\" >18.700000</td>\n",
       "            </tr>\n",
       "            <tr>\n",
       "                        <th id=\"T_5a2ca_level0_row3\" class=\"row_heading level0 row3\" >3</th>\n",
       "                        <td id=\"T_5a2ca_row3_col0\" class=\"data row3 col0\" >Temperature_range (high)_outside</td>\n",
       "                        <td id=\"T_5a2ca_row3_col1\" class=\"data row3 col1\" >15.522535</td>\n",
       "                        <td id=\"T_5a2ca_row3_col2\" class=\"data row3 col2\" >7.034981</td>\n",
       "                        <td id=\"T_5a2ca_row3_col3\" class=\"data row3 col3\" >1.500000</td>\n",
       "                        <td id=\"T_5a2ca_row3_col4\" class=\"data row3 col4\" >38.500000</td>\n",
       "            </tr>\n",
       "            <tr>\n",
       "                        <th id=\"T_5a2ca_level0_row4\" class=\"row_heading level0 row4\" >4</th>\n",
       "                        <td id=\"T_5a2ca_row4_col0\" class=\"data row4 col0\" >Humidity</td>\n",
       "                        <td id=\"T_5a2ca_row4_col1\" class=\"data row4 col1\" >48.519774</td>\n",
       "                        <td id=\"T_5a2ca_row4_col2\" class=\"data row4 col2\" >5.188886</td>\n",
       "                        <td id=\"T_5a2ca_row4_col3\" class=\"data row4 col3\" >37.000000</td>\n",
       "                        <td id=\"T_5a2ca_row4_col4\" class=\"data row4 col4\" >59.000000</td>\n",
       "            </tr>\n",
       "            <tr>\n",
       "                        <th id=\"T_5a2ca_level0_row5\" class=\"row_heading level0 row5\" >5</th>\n",
       "                        <td id=\"T_5a2ca_row5_col0\" class=\"data row5 col0\" >Temperature_indoor</td>\n",
       "                        <td id=\"T_5a2ca_row5_col1\" class=\"data row5 col1\" >21.827885</td>\n",
       "                        <td id=\"T_5a2ca_row5_col2\" class=\"data row5 col2\" >2.058307</td>\n",
       "                        <td id=\"T_5a2ca_row5_col3\" class=\"data row5 col3\" >18.040000</td>\n",
       "                        <td id=\"T_5a2ca_row5_col4\" class=\"data row5 col4\" >29.210000</td>\n",
       "            </tr>\n",
       "            <tr>\n",
       "                        <th id=\"T_5a2ca_level0_row6\" class=\"row_heading level0 row6\" >6</th>\n",
       "                        <td id=\"T_5a2ca_row6_col0\" class=\"data row6 col0\" >Temperature_range (low)_indoor</td>\n",
       "                        <td id=\"T_5a2ca_row6_col1\" class=\"data row6 col1\" >20.555932</td>\n",
       "                        <td id=\"T_5a2ca_row6_col2\" class=\"data row6 col2\" >2.405125</td>\n",
       "                        <td id=\"T_5a2ca_row6_col3\" class=\"data row6 col3\" >14.900000</td>\n",
       "                        <td id=\"T_5a2ca_row6_col4\" class=\"data row6 col4\" >28.200000</td>\n",
       "            </tr>\n",
       "            <tr>\n",
       "                        <th id=\"T_5a2ca_level0_row7\" class=\"row_heading level0 row7\" >7</th>\n",
       "                        <td id=\"T_5a2ca_row7_col0\" class=\"data row7 col0\" >Temperature_range (high)_indoor</td>\n",
       "                        <td id=\"T_5a2ca_row7_col1\" class=\"data row7 col1\" >23.532768</td>\n",
       "                        <td id=\"T_5a2ca_row7_col2\" class=\"data row7 col2\" >1.702157</td>\n",
       "                        <td id=\"T_5a2ca_row7_col3\" class=\"data row7 col3\" >19.700000</td>\n",
       "                        <td id=\"T_5a2ca_row7_col4\" class=\"data row7 col4\" >31.100000</td>\n",
       "            </tr>\n",
       "            <tr>\n",
       "                        <th id=\"T_5a2ca_level0_row8\" class=\"row_heading level0 row8\" >8</th>\n",
       "                        <td id=\"T_5a2ca_row8_col0\" class=\"data row8 col0\" >Baro</td>\n",
       "                        <td id=\"T_5a2ca_row8_col1\" class=\"data row8 col1\" >1009.996338</td>\n",
       "                        <td id=\"T_5a2ca_row8_col2\" class=\"data row8 col2\" >9.868772</td>\n",
       "                        <td id=\"T_5a2ca_row8_col3\" class=\"data row8 col3\" >979.600000</td>\n",
       "                        <td id=\"T_5a2ca_row8_col4\" class=\"data row8 col4\" >1035.600000</td>\n",
       "            </tr>\n",
       "    </tbody></table>"
      ],
      "text/plain": [
       "<pandas.io.formats.style.Styler at 0x7f3718b1fe50>"
      ]
     },
     "metadata": {},
     "output_type": "display_data"
    }
   ],
   "source": [
    "header = [column for column in data_frame.head(0)]\n",
    "Averages = [[header, pd.to_numeric(data_frame[header],errors='coerce').mean(skipna=True),pd.to_numeric(data_frame[header],errors='coerce').std(skipna=True),\n",
    "             pd.to_numeric(data_frame[header],errors='coerce').min(skipna=True),pd.to_numeric(data_frame[header],errors='coerce').max(skipna=True)]\n",
    "            for header in [column for column in data_frame.head(0)] if header != \"DateTime\"]\n",
    "\n",
    "table = pd.DataFrame(Averages, columns=[\"DataType\", \"Averages\", \"Standard Deviation\", \"Minimum Value\", \"Maximum Value\"])\n",
    "display(table.style)\n"
   ]
  },
  {
   "cell_type": "markdown",
   "metadata": {},
   "source": [
    "# Visualising Data\n",
    "# Seaborn Configured For Heading Columns With Preloaded Merged Table\n",
    "\n",
    "The work below formed part of the process to contextualise the data to understand its form. \n",
    "\n",
    "It is not strictly linked to Part One or Two, however the inferences drawn from the process in this part were vital in the final conclusions reached in the PDF document submitted for introducing outliers etc. "
   ]
  },
  {
   "cell_type": "markdown",
   "metadata": {},
   "source": [
    "# Distribution Plot: Temperature_Outside"
   ]
  },
  {
   "cell_type": "code",
   "execution_count": 13,
   "metadata": {
    "pycharm": {
     "is_executing": true,
     "name": "#%%\n"
    }
   },
   "outputs": [
    {
     "data": {
      "image/png": "[encoded data removed]",
      "text/plain": [
       "<Figure size 432x288 with 1 Axes>"
      ]
     },
     "metadata": {
      "needs_background": "light"
     },
     "output_type": "display_data"
    }
   ],
   "source": [
    "try:  \n",
    "    sns.distplot(data_frame[\"Temperature_outside\"])\n",
    "    sns.distplot(data_frame[\"Temperature_range (low)_outside\"])\n",
    "    sns.distplot(data_frame[\"Temperature_range (high)_outside\"])\n",
    "except:\n",
    "    print(\"Seaborn Set Up For Preloaded CSV Files. Amend The Headings Above If You Wish\")"
   ]
  },
  {
   "cell_type": "markdown",
   "metadata": {},
   "source": [
    "# Distribution Plot: Temperature_indoor"
   ]
  },
  {
   "cell_type": "code",
   "execution_count": 14,
   "metadata": {
    "pycharm": {
     "is_executing": true,
     "name": "#%%\n"
    }
   },
   "outputs": [
    {
     "data": {
      "image/png": "[encoded data removed]",
      "text/plain": [
       "<Figure size 432x288 with 1 Axes>"
      ]
     },
     "metadata": {
      "needs_background": "light"
     },
     "output_type": "display_data"
    }
   ],
   "source": [
    "try:\n",
    "    sns.distplot(data_frame[\"Temperature_indoor\"])\n",
    "    sns.distplot(data_frame[\"Temperature_range (low)_indoor\"])\n",
    "    sns.distplot(data_frame[\"Temperature_range (high)_indoor\"])\n",
    "except:\n",
    "    print(\"Seaborn Set Up For Preloaded CSV Files. Amend The Headings Above If You Wish\")\n",
    "    "
   ]
  },
  {
   "cell_type": "markdown",
   "metadata": {},
   "source": [
    "# Distribution Function: Humidity"
   ]
  },
  {
   "cell_type": "code",
   "execution_count": 15,
   "metadata": {
    "pycharm": {
     "is_executing": true
    }
   },
   "outputs": [
    {
     "data": {
      "image/png": "[encoded data removed]",
      "text/plain": [
       "<Figure size 432x288 with 1 Axes>"
      ]
     },
     "metadata": {
      "needs_background": "light"
     },
     "output_type": "display_data"
    }
   ],
   "source": [
    "try:\n",
    "    sns.distplot(data_frame[\"Humidity\"])\n",
    "except:\n",
    "    print(\"Seaborn Set Up For Preloaded CSV Files. Amend The Headings Above If You Wish\")"
   ]
  },
  {
   "cell_type": "markdown",
   "metadata": {},
   "source": [
    "# Scatter Plot: Temperature Outside x DateTime"
   ]
  },
  {
   "cell_type": "code",
   "execution_count": 16,
   "metadata": {
    "pycharm": {
     "is_executing": true,
     "name": "#%%\n"
    }
   },
   "outputs": [
    {
     "data": {
      "image/png": "[encoded data removed]",
      "text/plain": [
       "<Figure size 360x360 with 1 Axes>"
      ]
     },
     "metadata": {
      "needs_background": "light"
     },
     "output_type": "display_data"
    }
   ],
   "source": [
    "try:\n",
    "    sns.relplot(x=\"DateTime\", y=\"Temperature_outside\",data=data_frame)\n",
    "except:\n",
    "    print(\"Seaborn Set Up For Preloaded CSV Files. Amend The Headings Above If You Wish\")"
   ]
  },
  {
   "cell_type": "markdown",
   "metadata": {},
   "source": [
    "# Scatter Plot: Temperature Indoor x DateTime"
   ]
  },
  {
   "cell_type": "code",
   "execution_count": 17,
   "metadata": {
    "pycharm": {
     "is_executing": true
    }
   },
   "outputs": [
    {
     "data": {
      "image/png": "[encoded data removed]",
      "text/plain": [
       "<Figure size 360x360 with 1 Axes>"
      ]
     },
     "metadata": {
      "needs_background": "light"
     },
     "output_type": "display_data"
    }
   ],
   "source": [
    "try:\n",
    "    sns.relplot(x=\"DateTime\", y=\"Temperature_indoor\",data=data_frame)\n",
    "except:\n",
    "    print(\"Seaborn Set Up For Preloaded CSV Files. Amend The Headings Above If You Wish\")"
   ]
  },
  {
   "cell_type": "markdown",
   "metadata": {},
   "source": [
    "# Scatter Plot: Humidity x DateTime"
   ]
  },
  {
   "cell_type": "code",
   "execution_count": 18,
   "metadata": {
    "pycharm": {
     "is_executing": true
    }
   },
   "outputs": [
    {
     "data": {
      "image/png": "[encoded data removed]",
      "text/plain": [
       "<Figure size 360x360 with 1 Axes>"
      ]
     },
     "metadata": {
      "needs_background": "light"
     },
     "output_type": "display_data"
    }
   ],
   "source": [
    "try:\n",
    "    sns.relplot(x=\"DateTime\", y=\"Humidity\",data=data_frame)\n",
    "except:\n",
    "    print(\"Seaborn Set Up For Preloaded CSV Files. Amend The Headings Above If You Wish\")\n"
   ]
  },
  {
   "cell_type": "code",
   "execution_count": null,
   "metadata": {
    "pycharm": {
     "is_executing": true
    }
   },
   "outputs": [],
   "source": []
  },
  {
   "cell_type": "code",
   "execution_count": null,
   "metadata": {
    "pycharm": {
     "is_executing": true
    }
   },
   "outputs": [],
   "source": []
  },
  {
   "cell_type": "code",
   "execution_count": null,
   "metadata": {
    "pycharm": {
     "is_executing": true
    }
   },
   "outputs": [],
   "source": []
  },
  {
   "cell_type": "code",
   "execution_count": null,
   "metadata": {
    "pycharm": {
     "is_executing": true
    }
   },
   "outputs": [],
   "source": []
  }
 ],
 "metadata": {
  "kernelspec": {
   "display_name": "Python 3",
   "language": "python",
   "name": "python3"
  },
  "language_info": {
   "codemirror_mode": {
    "name": "ipython",
    "version": 3
   },
   "file_extension": ".py",
   "mimetype": "text/x-python",
   "name": "python",
   "nbconvert_exporter": "python",
   "pygments_lexer": "ipython3",
   "version": "3.8.5"
  }
 },
 "nbformat": 4,
 "nbformat_minor": 1
}