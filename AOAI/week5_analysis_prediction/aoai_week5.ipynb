{
 "cells": [
  {
   "cell_type": "markdown",
   "source": [
    "# Logistic Regression\n",
    "Youtube Resources: https://www.youtube.com/watch?v=yIYKR4sgzI8\n",
    "\n",
    "Inputs can be discrete data and/or continuous <br>\n",
    "Output is a Classification, i.e. Spam or Ham <br>"
   ],
   "metadata": {
    "collapsed": false
   }
  },
  {
   "cell_type": "markdown",
   "source": [
    "# Normalization\n",
    "\n",
    "Could be good or bad on the model <br>\n",
    "\n",
    "Min_Max: Usually puts the values between 0 and 1\n",
    "\n",
    "Standard Scaling: Ensures that the data has a Mean of 0, and Standard Deviation of 1."
   ],
   "metadata": {
    "collapsed": false
   }
  }
 ],
 "metadata": {
  "kernelspec": {
   "display_name": "Python 3",
   "language": "python",
   "name": "python3"
  },
  "language_info": {
   "codemirror_mode": {
    "name": "ipython",
    "version": 2
   },
   "file_extension": ".py",
   "mimetype": "text/x-python",
   "name": "python",
   "nbconvert_exporter": "python",
   "pygments_lexer": "ipython2",
   "version": "2.7.6"
  }
 },
 "nbformat": 4,
 "nbformat_minor": 0
}